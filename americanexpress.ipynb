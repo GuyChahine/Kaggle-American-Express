{
 "cells": [
  {
   "cell_type": "code",
   "execution_count": 1,
   "metadata": {},
   "outputs": [],
   "source": [
    "import numpy as np\n",
    "import pandas as pd\n",
    "import plotly.graph_objects as go\n",
    "import plotly.express as px\n",
    "from plotly.subplots import make_subplots\n",
    "from IPython.display import display\n",
    "import gc"
   ]
  },
  {
   "cell_type": "code",
   "execution_count": 2,
   "metadata": {},
   "outputs": [],
   "source": [
    "x_train = np.load(\"data/x_train.npy\")\n",
    "y_train = np.load(\"data/y_train.npy\")"
   ]
  },
  {
   "cell_type": "code",
   "execution_count": 3,
   "metadata": {},
   "outputs": [
    {
     "data": {
      "text/plain": [
       "(5531451, 186)"
      ]
     },
     "execution_count": 3,
     "metadata": {},
     "output_type": "execute_result"
    }
   ],
   "source": [
    "x_train.shape"
   ]
  },
  {
   "cell_type": "code",
   "execution_count": 4,
   "metadata": {},
   "outputs": [],
   "source": [
    "from keras.models import Sequential\n",
    "from keras.layers import Dense, Dropout, Input\n",
    "from keras.activations import relu, sigmoid\n",
    "from keras.optimizers import Adam\n",
    "from keras.losses import BinaryCrossentropy\n",
    "from keras.metrics import accuracy"
   ]
  },
  {
   "cell_type": "code",
   "execution_count": 5,
   "metadata": {},
   "outputs": [
    {
     "name": "stdout",
     "output_type": "stream",
     "text": [
      "Model: \"sequential\"\n",
      "_________________________________________________________________\n",
      " Layer (type)                Output Shape              Param #   \n",
      "=================================================================\n",
      " dropout (Dropout)           (None, 186)               0         \n",
      "                                                                 \n",
      " dense (Dense)               (None, 256)               47872     \n",
      "                                                                 \n",
      " dense_1 (Dense)             (None, 128)               32896     \n",
      "                                                                 \n",
      " dense_2 (Dense)             (None, 64)                8256      \n",
      "                                                                 \n",
      " dense_3 (Dense)             (None, 32)                2080      \n",
      "                                                                 \n",
      " dense_4 (Dense)             (None, 16)                528       \n",
      "                                                                 \n",
      " dense_5 (Dense)             (None, 1)                 17        \n",
      "                                                                 \n",
      "=================================================================\n",
      "Total params: 91,649\n",
      "Trainable params: 91,649\n",
      "Non-trainable params: 0\n",
      "_________________________________________________________________\n"
     ]
    }
   ],
   "source": [
    "model = Sequential([\n",
    "    Input(shape=(186)),\n",
    "    Dropout(0.2),\n",
    "    Dense(256, activation=relu),\n",
    "    Dense(128, activation=relu),\n",
    "    Dense(64, activation=relu),\n",
    "    Dense(32, activation=relu),\n",
    "    Dense(16, activation=relu),\n",
    "    Dense(1, activation=sigmoid),\n",
    "])\n",
    "\n",
    "model.summary()"
   ]
  },
  {
   "cell_type": "code",
   "execution_count": 6,
   "metadata": {},
   "outputs": [
    {
     "name": "stdout",
     "output_type": "stream",
     "text": [
      "Epoch 1/20\n",
      "554/554 [==============================] - 6s 7ms/step - loss: 0.3117 - accuracy: 0.8545\n",
      "Epoch 2/20\n",
      "554/554 [==============================] - 4s 7ms/step - loss: 0.2907 - accuracy: 0.8653\n",
      "Epoch 3/20\n",
      "554/554 [==============================] - 4s 7ms/step - loss: 0.2884 - accuracy: 0.8664\n",
      "Epoch 4/20\n",
      "554/554 [==============================] - 4s 6ms/step - loss: 0.2872 - accuracy: 0.8671\n",
      "Epoch 5/20\n",
      "554/554 [==============================] - 4s 7ms/step - loss: 0.2863 - accuracy: 0.8677\n",
      "Epoch 6/20\n",
      "554/554 [==============================] - 4s 6ms/step - loss: 0.2854 - accuracy: 0.8682\n",
      "Epoch 7/20\n",
      "554/554 [==============================] - 4s 7ms/step - loss: 0.2847 - accuracy: 0.8686\n",
      "Epoch 8/20\n",
      "554/554 [==============================] - 4s 6ms/step - loss: 0.2844 - accuracy: 0.8689\n",
      "Epoch 9/20\n",
      "554/554 [==============================] - 4s 7ms/step - loss: 0.2839 - accuracy: 0.8692\n",
      "Epoch 10/20\n",
      "554/554 [==============================] - 4s 7ms/step - loss: 0.2835 - accuracy: 0.8693\n",
      "Epoch 11/20\n",
      "554/554 [==============================] - 4s 7ms/step - loss: 0.2829 - accuracy: 0.8695\n",
      "Epoch 12/20\n",
      "554/554 [==============================] - 4s 7ms/step - loss: 0.2826 - accuracy: 0.8697\n",
      "Epoch 13/20\n",
      "554/554 [==============================] - 4s 6ms/step - loss: 0.2823 - accuracy: 0.8700\n",
      "Epoch 14/20\n",
      "554/554 [==============================] - 4s 6ms/step - loss: 0.2819 - accuracy: 0.8702\n",
      "Epoch 15/20\n",
      "554/554 [==============================] - 4s 6ms/step - loss: 0.2815 - accuracy: 0.8704\n",
      "Epoch 16/20\n",
      "554/554 [==============================] - 4s 6ms/step - loss: 0.2811 - accuracy: 0.8705\n",
      "Epoch 17/20\n",
      "554/554 [==============================] - 4s 6ms/step - loss: 0.2809 - accuracy: 0.8709\n",
      "Epoch 18/20\n",
      "554/554 [==============================] - 4s 6ms/step - loss: 0.2805 - accuracy: 0.8711\n",
      "Epoch 19/20\n",
      "554/554 [==============================] - 4s 6ms/step - loss: 0.2804 - accuracy: 0.8711\n",
      "Epoch 20/20\n",
      "554/554 [==============================] - 4s 6ms/step - loss: 0.2801 - accuracy: 0.8712\n"
     ]
    },
    {
     "data": {
      "text/plain": [
       "<keras.callbacks.History at 0x1ed4f6d49d0>"
      ]
     },
     "execution_count": 6,
     "metadata": {},
     "output_type": "execute_result"
    }
   ],
   "source": [
    "model.compile(optimizer=Adam(), loss=BinaryCrossentropy(), metrics=[\"accuracy\"])\n",
    "model.fit(x_train, y_train, batch_size=10000, epochs=20)"
   ]
  },
  {
   "cell_type": "code",
   "execution_count": 7,
   "metadata": {},
   "outputs": [],
   "source": [
    "model.save(\"model.hdf5\")"
   ]
  }
 ],
 "metadata": {
  "kernelspec": {
   "display_name": "Python 3.10.4 64-bit",
   "language": "python",
   "name": "python3"
  },
  "language_info": {
   "codemirror_mode": {
    "name": "ipython",
    "version": 3
   },
   "file_extension": ".py",
   "mimetype": "text/x-python",
   "name": "python",
   "nbconvert_exporter": "python",
   "pygments_lexer": "ipython3",
   "version": "3.10.4"
  },
  "orig_nbformat": 4,
  "vscode": {
   "interpreter": {
    "hash": "0986a705e0e9c41aedb0cb54b09a403593fe0a5bc8bc18fb428b786d741665bc"
   }
  }
 },
 "nbformat": 4,
 "nbformat_minor": 2
}
